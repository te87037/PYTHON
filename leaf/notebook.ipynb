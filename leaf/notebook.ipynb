{
  "metadata": {
    "kernelspec": {
      "display_name": "Python 3",
      "language": "python",
      "name": "python3"
    },
    "language_info": {
      "codemirror_mode": {
        "name": "ipython",
        "version": 3
      },
      "file_extension": ".py",
      "mimetype": "text/x-python",
      "name": "python",
      "nbconvert_exporter": "python",
      "pygments_lexer": "ipython3",
      "version": "3.6.0"
    }
  },
  "nbformat": 4,
  "nbformat_minor": 0,
  "cells": [
    {
      "cell_type": "code",
      "source": "import numpy as np\nimport pandas as pd\ndef warn(*args, **kwargs): pass   #ignor error messages\nimport warnings\nwarnings.warn = warn\n\nfrom sklearn.preprocessing import LabelEncoder\nfrom sklearn.cross_validation import StratifiedShuffleSplit\n\ndef encode(train, test):\n    le = LabelEncoder().fit(train.species) \n    labels = le.transform(train.species)           # encode species strings\n    classes = list(le.classes_)                    # save column names for submission\n    test_ids = test.id                             # save test ids for submission\n    \n    train = train.drop(['species', 'id'], axis=1)  #drop classes and ids from training set\n    test = test.drop(['id'], axis=1)               ##drop ids from testing set\n    \n    return train, labels, test, test_ids, classes\n\n\n\n",
      "execution_count": 7,
      "outputs": [],
      "metadata": {}
    },
    {
      "cell_type": "code",
      "source": "train = pd.read_csv('../input/train.csv')\ntest = pd.read_csv('../input/test.csv')\ntrain, labels, test, test_ids, classes = encode(train, test)\nprint(train.head(1))\nsss = StratifiedShuffleSplit(labels, 10, test_size=0.2, random_state=23)\n\nfor train_index, test_index in sss:\n    X_train, X_test = train.values[train_index], train.values[test_index]\n    y_train, y_test = labels[train_index], labels[test_index]\n",
      "execution_count": 8,
      "outputs": [
        {
          "name": "stdout",
          "output_type": "stream",
          "text": "    margin1   margin2   margin3   margin4   margin5   margin6   margin7  \\\n0  0.007812  0.023438  0.023438  0.003906  0.011719  0.009766  0.027344   \n\n   margin8   margin9  margin10    ...      texture55  texture56  texture57  \\\n0      0.0  0.001953  0.033203    ...       0.007812        0.0    0.00293   \n\n   texture58  texture59  texture60  texture61  texture62  texture63  texture64  \n0    0.00293   0.035156        0.0        0.0   0.004883        0.0   0.025391  \n\n[1 rows x 192 columns]\n"
        }
      ],
      "metadata": {}
    },
    {
      "cell_type": "code",
      "source": "#import classify alg.\nfrom sklearn.discriminant_analysis import LinearDiscriminantAnalysis\nmodel = LinearDiscriminantAnalysis()\n\nmodel.fit(X_train, y_train)\ntrain_predictions = model.predict(X_test)\ntrain_predictions = model.predict_proba(X_test)\n\nfavorite_clf = LinearDiscriminantAnalysis()\nfavorite_clf.fit(X_train, y_train)\ntest_predictions = favorite_clf.predict_proba(test)\n\n# Format DataFrame\nsubmission = pd.DataFrame(test_predictions, columns=classes)\nsubmission.insert(0, 'id', test_ids)\nsubmission.reset_index()\n\n# Export Submission\nsubmission.to_csv('submission.csv', index = False)\nsubmission.tail()",
      "execution_count": 9,
      "outputs": [
        {
          "name": "stderr",
          "output_type": "stream",
          "text": "/opt/conda/lib/python3.6/site-packages/sklearn/discriminant_analysis.py:510: RuntimeWarning: overflow encountered in exp\n  np.exp(prob, prob)\n"
        },
        {
          "data": {
            "text/html": "<div>\n<table border=\"1\" class=\"dataframe\">\n  <thead>\n    <tr style=\"text-align: right;\">\n      <th></th>\n      <th>id</th>\n      <th>Acer_Capillipes</th>\n      <th>Acer_Circinatum</th>\n      <th>Acer_Mono</th>\n      <th>Acer_Opalus</th>\n      <th>Acer_Palmatum</th>\n      <th>Acer_Pictum</th>\n      <th>Acer_Platanoids</th>\n      <th>Acer_Rubrum</th>\n      <th>Acer_Rufinerve</th>\n      <th>...</th>\n      <th>Salix_Fragilis</th>\n      <th>Salix_Intergra</th>\n      <th>Sorbus_Aria</th>\n      <th>Tilia_Oliveri</th>\n      <th>Tilia_Platyphyllos</th>\n      <th>Tilia_Tomentosa</th>\n      <th>Ulmus_Bergmanniana</th>\n      <th>Viburnum_Tinus</th>\n      <th>Viburnum_x_Rhytidophylloides</th>\n      <th>Zelkova_Serrata</th>\n    </tr>\n  </thead>\n  <tbody>\n    <tr>\n      <th>589</th>\n      <td>1576</td>\n      <td>6.204136e-54</td>\n      <td>1.449370e-01</td>\n      <td>1.475659e-90</td>\n      <td>5.132873e-26</td>\n      <td>9.010706e-52</td>\n      <td>2.352036e-90</td>\n      <td>1.112248e-124</td>\n      <td>1.322167e-25</td>\n      <td>1.359639e-01</td>\n      <td>...</td>\n      <td>6.361381e-123</td>\n      <td>8.130237e-71</td>\n      <td>6.622506e-119</td>\n      <td>6.481666e-36</td>\n      <td>3.403272e-53</td>\n      <td>2.003573e-07</td>\n      <td>1.449370e-01</td>\n      <td>5.771493e-90</td>\n      <td>2.630176e-171</td>\n      <td>9.962496e-22</td>\n    </tr>\n    <tr>\n      <th>590</th>\n      <td>1577</td>\n      <td>1.900531e-37</td>\n      <td>1.045995e-99</td>\n      <td>1.557514e-158</td>\n      <td>9.196877e-06</td>\n      <td>0.000000e+00</td>\n      <td>9.698483e-80</td>\n      <td>5.454368e-98</td>\n      <td>2.602529e-02</td>\n      <td>1.802151e-03</td>\n      <td>...</td>\n      <td>9.096270e-106</td>\n      <td>5.837029e-63</td>\n      <td>7.400703e-56</td>\n      <td>8.551145e-50</td>\n      <td>1.944157e-01</td>\n      <td>1.944157e-01</td>\n      <td>2.143120e-56</td>\n      <td>4.441785e-81</td>\n      <td>2.147924e-160</td>\n      <td>2.632177e-24</td>\n    </tr>\n    <tr>\n      <th>591</th>\n      <td>1579</td>\n      <td>4.449199e-58</td>\n      <td>1.228800e-140</td>\n      <td>4.226146e-102</td>\n      <td>9.938732e-15</td>\n      <td>0.000000e+00</td>\n      <td>9.061245e-61</td>\n      <td>2.290520e-121</td>\n      <td>8.680465e-80</td>\n      <td>8.649427e-82</td>\n      <td>...</td>\n      <td>1.591167e-186</td>\n      <td>8.930755e-88</td>\n      <td>7.286240e-108</td>\n      <td>2.605949e-68</td>\n      <td>2.329933e-68</td>\n      <td>1.002354e-60</td>\n      <td>4.917214e-131</td>\n      <td>6.037330e-53</td>\n      <td>1.830155e-119</td>\n      <td>1.483111e-71</td>\n    </tr>\n    <tr>\n      <th>592</th>\n      <td>1580</td>\n      <td>6.855197e-88</td>\n      <td>1.544689e-115</td>\n      <td>4.060925e-78</td>\n      <td>4.288282e-21</td>\n      <td>3.055445e-280</td>\n      <td>1.272440e-68</td>\n      <td>4.257375e-73</td>\n      <td>1.627633e-21</td>\n      <td>1.229452e-60</td>\n      <td>...</td>\n      <td>2.971775e-146</td>\n      <td>1.124700e-41</td>\n      <td>1.138484e-130</td>\n      <td>1.546564e-34</td>\n      <td>5.196566e-59</td>\n      <td>2.251470e-29</td>\n      <td>2.210551e-90</td>\n      <td>2.047402e-39</td>\n      <td>9.591715e-145</td>\n      <td>1.501223e-67</td>\n    </tr>\n    <tr>\n      <th>593</th>\n      <td>1583</td>\n      <td>7.590912e-110</td>\n      <td>3.041233e-140</td>\n      <td>9.026623e-76</td>\n      <td>1.200284e-34</td>\n      <td>0.000000e+00</td>\n      <td>1.332657e-22</td>\n      <td>4.334935e-98</td>\n      <td>1.949399e-94</td>\n      <td>1.070657e-89</td>\n      <td>...</td>\n      <td>1.923710e-172</td>\n      <td>1.253209e-72</td>\n      <td>2.626739e-163</td>\n      <td>4.515194e-71</td>\n      <td>7.690334e-84</td>\n      <td>6.683678e-56</td>\n      <td>1.219989e-122</td>\n      <td>2.210387e-26</td>\n      <td>2.109889e-123</td>\n      <td>7.880288e-62</td>\n    </tr>\n  </tbody>\n</table>\n<p>5 rows × 100 columns</p>\n</div>",
            "text/plain": "       id  Acer_Capillipes  Acer_Circinatum      Acer_Mono   Acer_Opalus  \\\n589  1576     6.204136e-54     1.449370e-01   1.475659e-90  5.132873e-26   \n590  1577     1.900531e-37     1.045995e-99  1.557514e-158  9.196877e-06   \n591  1579     4.449199e-58    1.228800e-140  4.226146e-102  9.938732e-15   \n592  1580     6.855197e-88    1.544689e-115   4.060925e-78  4.288282e-21   \n593  1583    7.590912e-110    3.041233e-140   9.026623e-76  1.200284e-34   \n\n     Acer_Palmatum   Acer_Pictum  Acer_Platanoids   Acer_Rubrum  \\\n589   9.010706e-52  2.352036e-90    1.112248e-124  1.322167e-25   \n590   0.000000e+00  9.698483e-80     5.454368e-98  2.602529e-02   \n591   0.000000e+00  9.061245e-61    2.290520e-121  8.680465e-80   \n592  3.055445e-280  1.272440e-68     4.257375e-73  1.627633e-21   \n593   0.000000e+00  1.332657e-22     4.334935e-98  1.949399e-94   \n\n     Acer_Rufinerve       ...         Salix_Fragilis  Salix_Intergra  \\\n589    1.359639e-01       ...          6.361381e-123    8.130237e-71   \n590    1.802151e-03       ...          9.096270e-106    5.837029e-63   \n591    8.649427e-82       ...          1.591167e-186    8.930755e-88   \n592    1.229452e-60       ...          2.971775e-146    1.124700e-41   \n593    1.070657e-89       ...          1.923710e-172    1.253209e-72   \n\n       Sorbus_Aria  Tilia_Oliveri  Tilia_Platyphyllos  Tilia_Tomentosa  \\\n589  6.622506e-119   6.481666e-36        3.403272e-53     2.003573e-07   \n590   7.400703e-56   8.551145e-50        1.944157e-01     1.944157e-01   \n591  7.286240e-108   2.605949e-68        2.329933e-68     1.002354e-60   \n592  1.138484e-130   1.546564e-34        5.196566e-59     2.251470e-29   \n593  2.626739e-163   4.515194e-71        7.690334e-84     6.683678e-56   \n\n     Ulmus_Bergmanniana  Viburnum_Tinus  Viburnum_x_Rhytidophylloides  \\\n589        1.449370e-01    5.771493e-90                 2.630176e-171   \n590        2.143120e-56    4.441785e-81                 2.147924e-160   \n591       4.917214e-131    6.037330e-53                 1.830155e-119   \n592        2.210551e-90    2.047402e-39                 9.591715e-145   \n593       1.219989e-122    2.210387e-26                 2.109889e-123   \n\n     Zelkova_Serrata  \n589     9.962496e-22  \n590     2.632177e-24  \n591     1.483111e-71  \n592     1.501223e-67  \n593     7.880288e-62  \n\n[5 rows x 100 columns]"
          },
          "execution_count": 9,
          "metadata": {},
          "output_type": "execute_result"
        }
      ],
      "metadata": {}
    },
    {
      "cell_type": "code",
      "source": null,
      "execution_count": 10,
      "outputs": [],
      "metadata": {}
    }
  ]
}